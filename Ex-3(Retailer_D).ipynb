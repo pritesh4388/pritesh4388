{
 "cells": [
  {
   "cell_type": "code",
   "execution_count": 3,
   "id": "73bcafe3",
   "metadata": {},
   "outputs": [],
   "source": [
    "# import required libraries\n",
    "import pandas as pd\n",
    "import openpyxl\n",
    "from openpyxl import load_workbook\n",
    "from openpyxl.styles import Alignment\n",
    "from openpyxl.styles import Font\n",
    "from openpyxl.chart import BarChart, Reference\n",
    "from xlsxwriter.utility import xl_rowcol_to_cell\n",
    "import string\n",
    "from datetime import datetime\n",
    "import win32com.client\n",
    "\n",
    "\n",
    "rp = pd.read_excel('K:\\SnW Project\\Allocations\\Retailer_D.xlsx',skiprows = range(5))\n",
    "\n",
    "rp['Address']=rp['Street Number'].map(str)+'  '+rp['Street Name'].map(str)+'  '+rp['Suburb'].map(str)\n",
    "Retailers = rp.loc[rp[\"Retailer Status\"] == 'Active',['Retailer Outlet ID','Trading Name','Post Code','Business Phone','Route','Retailer Category','Retailer Status','Terminal Count','Address'] ]\n",
    "\n",
    "\n",
    "#Generating output file \n",
    "with pd.ExcelWriter('K:\\SnW Project\\Allocations\\Output\\Output.xlsx') as writer:\n",
    "    Retailers.style.set_properties(**{'text-align': 'center'}).to_excel(writer,sheet_name ='Final_report',index = 0, startrow = 1)\n",
    "    workbook = writer.book\n",
    "    worksheet = writer.sheets['Final_report']\n",
    "    worksheet.set_column(0,0,16)\n",
    "    worksheet.set_column(1,1,34)\n",
    "    worksheet.set_column(2,2,9)\n",
    "    worksheet.set_column(3,3,15)\n",
    "    worksheet.set_column(4,4,30)\n",
    "    worksheet.set_column(5,5,17)\n",
    "    worksheet.set_column(6,7,14)\n",
    "    worksheet.set_column('I:I',55)\n",
    "    "
   ]
  },
  {
   "cell_type": "code",
   "execution_count": null,
   "id": "05e27491",
   "metadata": {},
   "outputs": [],
   "source": []
  }
 ],
 "metadata": {
  "kernelspec": {
   "display_name": "Python 3 (ipykernel)",
   "language": "python",
   "name": "python3"
  },
  "language_info": {
   "codemirror_mode": {
    "name": "ipython",
    "version": 3
   },
   "file_extension": ".py",
   "mimetype": "text/x-python",
   "name": "python",
   "nbconvert_exporter": "python",
   "pygments_lexer": "ipython3",
   "version": "3.9.12"
  }
 },
 "nbformat": 4,
 "nbformat_minor": 5
}
